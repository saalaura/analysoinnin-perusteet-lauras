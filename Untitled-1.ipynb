{
 "cells": [
  {
   "cell_type": "code",
   "execution_count": 25,
   "metadata": {},
   "outputs": [
    {
     "name": "stdout",
     "output_type": "stream",
     "text": [
      "Hello, this is my first Python code\n",
      "hello\n",
      "python aika\n",
      "moi\n",
      "      k\n"
     ]
    }
   ],
   "source": [
    "## Comment\n",
    "print(\"Hello, this is my first Python code\")\n",
    "print('hello')\n",
    "print('python aika')\n",
    "## ''' kommentti jossa useampi rivi\n",
    "print('''moi\n",
    "      k''')\n"
   ]
  },
  {
   "cell_type": "code",
   "execution_count": 26,
   "metadata": {},
   "outputs": [
    {
     "name": "stdout",
     "output_type": "stream",
     "text": [
      "21\n"
     ]
    },
    {
     "data": {
      "text/plain": [
       "0"
      ]
     },
     "execution_count": 26,
     "metadata": {},
     "output_type": "execute_result"
    }
   ],
   "source": [
    "\n",
    "\n"
   ]
  },
  {
   "cell_type": "code",
   "execution_count": 27,
   "metadata": {},
   "outputs": [
    {
     "data": {
      "text/plain": [
       "float"
      ]
     },
     "execution_count": 27,
     "metadata": {},
     "output_type": "execute_result"
    }
   ],
   "source": [
    "##onko int vai mikä (kokonaisluku on int)\n",
    "x=3\n",
    "type(x)\n",
    "##tai\n",
    "type(3.2)\n",
    "##float on desimaaliluku ja int on kokonaisluku!!"
   ]
  },
  {
   "cell_type": "code",
   "execution_count": 32,
   "metadata": {},
   "outputs": [
    {
     "name": "stdout",
     "output_type": "stream",
     "text": [
      "n1 is equal or greater than n2\n",
      "the values are not equal\n",
      "n1 is greater than n2\n",
      "names are not equal\n",
      "names 1 and 3 are equal\n"
     ]
    }
   ],
   "source": [
    "n1 = 10\n",
    "n2 =8\n",
    "n3 = 9\n",
    "if n2 == n1:\n",
    "    print('the values are equal')\n",
    "\n",
    "\n",
    "if n1 < n2:\n",
    "    print('n2 is greater than n1')\n",
    "\n",
    "if n1 >= n2:\n",
    "    print('n1 is equal or greater than n2')\n",
    "\n",
    "if n1 != n2:\n",
    "    print('the values are not equal')\n",
    "\n",
    "\n",
    "if n1 == n2 == n3:\n",
    "    print('all the values are equal')   \n",
    "\n",
    "if n1 == n2 or n2 == n3:\n",
    "    print('n1 and n2 are equal, or n2 and n3 are equal')\n",
    "\n",
    "if n1 > n2:\n",
    "    print(\"n1 is greater than n2\")\n",
    "elif n1>n3:\n",
    "    print('n1 is greater than n3')\n",
    "\n",
    "if n1 == n2:\n",
    "    print('n1 and n2 are equal')\n",
    "elif n1 == n3:\n",
    "    print('n1 is equal to n3')\n",
    "\n",
    "name1 = \"laura\"\n",
    "name2 = \"veeti\"\n",
    "name3 = \"laura\"\n",
    "\n",
    "if name1 == name2:\n",
    "    print('names are equal')\n",
    "\n",
    "if name1 != name2:\n",
    "    print('names are not equal')\n",
    "\n",
    "if name1 == name2:\n",
    "    print('names 1 and 2 are equal')\n",
    "elif name1 == name3:\n",
    "    print('names 1 and 3 are equal')\n",
    "else:\n",
    "    print('names are not equal')"
   ]
  },
  {
   "cell_type": "code",
   "execution_count": 35,
   "metadata": {},
   "outputs": [
    {
     "name": "stdout",
     "output_type": "stream",
     "text": [
      "['chair', 'carpet', 'dishwasher']\n",
      "chair carpet\n",
      "carpet\n"
     ]
    }
   ],
   "source": [
    "furnitures = [\"chair\", \"carpet\", \"dishwasher\"]\n",
    "print(furnitures)\n",
    "print(furnitures[0], furnitures[1])\n",
    "for item in furnitures:\n",
    "    if item == \"carpet\":\n",
    "        print(\"carpet\")"
   ]
  },
  {
   "cell_type": "code",
   "execution_count": 50,
   "metadata": {},
   "outputs": [
    {
     "name": "stdout",
     "output_type": "stream",
     "text": [
      "[1, 3, 1, 3, 2]\n",
      "21\n"
     ]
    }
   ],
   "source": [
    "import random\n",
    "\n",
    "thrownDiceNumbers = [random.randint(1, 6) for _ in range(5)]\n",
    "print(thrownDiceNumbers)\n",
    "\n",
    "#numbers_sum = sum(thrownDiceNumbers)\n",
    "#print(\"The sum is:\", numbers_sum)\n",
    "\n",
    "# highestValue = max(thrownDiceNumbers)\n",
    "# print(\"The highest value is:\", highestValue)\n",
    "print(sum)\n"
   ]
  },
  {
   "cell_type": "markdown",
   "metadata": {},
   "source": []
  },
  {
   "cell_type": "code",
   "execution_count": 46,
   "metadata": {},
   "outputs": [
    {
     "name": "stdout",
     "output_type": "stream",
     "text": [
      "Printer App\n",
      "This App is made by: Laura S.\n",
      "Tre creator is: Laura\n",
      "The value of number1 is 2\n",
      "The value of number2 is 1\n",
      "2  *  1  =  2\n",
      "2  +  1  =  3\n",
      "2  /  1  =  2.0\n",
      "2  -  1  =  1\n"
     ]
    }
   ],
   "source": [
    "creator = \"Laura\"\n",
    "number1 = 2\n",
    "number2 = 1\n",
    "multiplication = number1*number2\n",
    "addition = number1+number2\n",
    "division = number1 / number2\n",
    "substraction = number1-number2\n",
    "\n",
    "print('Printer App')\n",
    "print('This App is made by: Laura S.')\n",
    "print(\"Tre creator is:\", creator)\n",
    "#print(number1)\n",
    "print(\"The value of number1 is\", number1)\n",
    "print(\"The value of number2 is\", number2)\n",
    "print(number1, \" * \", number2, \" = \", multiplication)\n",
    "print(number1, \" + \", number2, \" = \", addition)\n",
    "print(number1, \" / \", number2, \" = \", division)\n",
    "print(number1, \" - \", number2, \" = \", substraction)\n",
    "\n"
   ]
  }
 ],
 "metadata": {
  "kernelspec": {
   "display_name": "Python 3",
   "language": "python",
   "name": "python3"
  },
  "language_info": {
   "codemirror_mode": {
    "name": "ipython",
    "version": 3
   },
   "file_extension": ".py",
   "mimetype": "text/x-python",
   "name": "python",
   "nbconvert_exporter": "python",
   "pygments_lexer": "ipython3",
   "version": "3.13.0"
  }
 },
 "nbformat": 4,
 "nbformat_minor": 2
}
