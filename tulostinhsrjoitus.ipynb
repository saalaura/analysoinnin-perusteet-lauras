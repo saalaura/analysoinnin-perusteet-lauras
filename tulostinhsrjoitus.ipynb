{
 "cells": [
  {
   "cell_type": "code",
   "execution_count": null,
   "metadata": {},
   "outputs": [],
   "source": [
    "creator = \"Laura\"\n",
    "number1 = 2\n",
    "number2 = 1\n",
    "multiplication = number1*number2\n",
    "addition = number1+number2\n",
    "division = number1 / number2\n",
    "substraction = number1-number2\n",
    "\n",
    "print('Printer App')\n",
    "print('This App is made by: Laura S.')\n",
    "print(\"Tre creator is:\", creator)\n",
    "#print(number1)\n",
    "print(\"The value of number1 is\", number1)\n",
    "print(\"The value of number2 is\", number2)\n",
    "print(number1, \" * \", number2, \" = \", multiplication)\n",
    "print(number1, \" + \", number2, \" = \", addition)\n",
    "print(number1, \" / \", number2, \" = \", division)\n",
    "print(number1, \" - \", number2, \" = \", substraction)"
   ]
  }
 ],
 "metadata": {
  "language_info": {
   "name": "python"
  }
 },
 "nbformat": 4,
 "nbformat_minor": 2
}
